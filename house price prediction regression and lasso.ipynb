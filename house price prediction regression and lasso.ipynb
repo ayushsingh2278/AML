{
 "cells": [
  {
   "cell_type": "markdown",
   "id": "bcc091e1",
   "metadata": {},
   "source": [
    "# What is regularization:\n",
    "\n",
    "*Regularization refers to a set of different techniques that lower the complexity of a neural network model during training,\n",
    "and thus prevent the overfitting.\n",
    "\n"
   ]
  },
  {
   "cell_type": "markdown",
   "id": "39133934",
   "metadata": {},
   "source": [
    "# Lasso:\n",
    "\n",
    "*Least Absolute Shrinkage and Selection Operator \n",
    "*If a model uses the L1 regularization technique, then it is called lasso regression. \n",
    "*Adds the “absolute value of magnitude” of the coefficient as a penalty term to the loss function \n",
    "*Also performs automatic feature selection \n"
   ]
  },
  {
   "cell_type": "markdown",
   "id": "c34d7253",
   "metadata": {},
   "source": [
    "# Ridge:\n",
    "\n",
    "*Ridge regression is also referred to as L2 Regularization.\n",
    "*Adds the \"squared magnitude\" of the coefficient as the penalty term to the loss function. "
   ]
  },
  {
   "cell_type": "code",
   "execution_count": 118,
   "id": "9a1d1ea8",
   "metadata": {},
   "outputs": [],
   "source": [
    "import numpy as np\n",
    "import pandas as pd\n",
    "import matplotlib.pyplot as plt\n",
    "import seaborn as sns\n",
    "import warnings\n",
    "warnings.filterwarnings('ignore')\n",
    "from scipy import stats\n",
    "from sklearn.feature_selection import SelectKBest\n",
    "from sklearn.feature_selection import f_regression\n",
    "from sklearn.preprocessing import OrdinalEncoder\n",
    "from sklearn.ensemble import RandomForestRegressor\n",
    "from sklearn.model_selection import train_test_split\n",
    "from sklearn.linear_model import LinearRegression\n",
    "from sklearn.metrics import r2_score\n",
    "from sklearn.linear_model import RidgeCV\n",
    "from sklearn.linear_model import Ridge\n",
    "from sklearn.linear_model import Lasso\n",
    "from sklearn.model_selection import GridSearchCV\n",
    "from sklearn.linear_model import LassoCV"
   ]
  },
  {
   "cell_type": "code",
   "execution_count": 39,
   "id": "a988909e",
   "metadata": {},
   "outputs": [],
   "source": [
    "df_test=pd.read_csv(\"/Users/ayushsingh/Downloads/ADVANCE MACHINE LEARNING/test-.csv\")\n",
    "df_train=pd.read_csv(\"/Users/ayushsingh/Downloads/ADVANCE MACHINE LEARNING/train.csv\")"
   ]
  },
  {
   "cell_type": "markdown",
   "id": "7555c9a9",
   "metadata": {},
   "source": [
    "# Basic Analysis"
   ]
  },
  {
   "cell_type": "code",
   "execution_count": 40,
   "id": "8120ffa3",
   "metadata": {},
   "outputs": [
    {
     "data": {
      "text/html": [
       "<div>\n",
       "<style scoped>\n",
       "    .dataframe tbody tr th:only-of-type {\n",
       "        vertical-align: middle;\n",
       "    }\n",
       "\n",
       "    .dataframe tbody tr th {\n",
       "        vertical-align: top;\n",
       "    }\n",
       "\n",
       "    .dataframe thead th {\n",
       "        text-align: right;\n",
       "    }\n",
       "</style>\n",
       "<table border=\"1\" class=\"dataframe\">\n",
       "  <thead>\n",
       "    <tr style=\"text-align: right;\">\n",
       "      <th></th>\n",
       "      <th>Id</th>\n",
       "      <th>MSSubClass</th>\n",
       "      <th>MSZoning</th>\n",
       "      <th>LotFrontage</th>\n",
       "      <th>LotArea</th>\n",
       "      <th>Street</th>\n",
       "      <th>Alley</th>\n",
       "      <th>LotShape</th>\n",
       "      <th>LandContour</th>\n",
       "      <th>Utilities</th>\n",
       "      <th>...</th>\n",
       "      <th>ScreenPorch</th>\n",
       "      <th>PoolArea</th>\n",
       "      <th>PoolQC</th>\n",
       "      <th>Fence</th>\n",
       "      <th>MiscFeature</th>\n",
       "      <th>MiscVal</th>\n",
       "      <th>MoSold</th>\n",
       "      <th>YrSold</th>\n",
       "      <th>SaleType</th>\n",
       "      <th>SaleCondition</th>\n",
       "    </tr>\n",
       "  </thead>\n",
       "  <tbody>\n",
       "    <tr>\n",
       "      <th>0</th>\n",
       "      <td>1461</td>\n",
       "      <td>20</td>\n",
       "      <td>RH</td>\n",
       "      <td>80.0</td>\n",
       "      <td>11622</td>\n",
       "      <td>Pave</td>\n",
       "      <td>NaN</td>\n",
       "      <td>Reg</td>\n",
       "      <td>Lvl</td>\n",
       "      <td>AllPub</td>\n",
       "      <td>...</td>\n",
       "      <td>120</td>\n",
       "      <td>0</td>\n",
       "      <td>NaN</td>\n",
       "      <td>MnPrv</td>\n",
       "      <td>NaN</td>\n",
       "      <td>0</td>\n",
       "      <td>6</td>\n",
       "      <td>2010</td>\n",
       "      <td>WD</td>\n",
       "      <td>Normal</td>\n",
       "    </tr>\n",
       "    <tr>\n",
       "      <th>1</th>\n",
       "      <td>1462</td>\n",
       "      <td>20</td>\n",
       "      <td>RL</td>\n",
       "      <td>81.0</td>\n",
       "      <td>14267</td>\n",
       "      <td>Pave</td>\n",
       "      <td>NaN</td>\n",
       "      <td>IR1</td>\n",
       "      <td>Lvl</td>\n",
       "      <td>AllPub</td>\n",
       "      <td>...</td>\n",
       "      <td>0</td>\n",
       "      <td>0</td>\n",
       "      <td>NaN</td>\n",
       "      <td>NaN</td>\n",
       "      <td>Gar2</td>\n",
       "      <td>12500</td>\n",
       "      <td>6</td>\n",
       "      <td>2010</td>\n",
       "      <td>WD</td>\n",
       "      <td>Normal</td>\n",
       "    </tr>\n",
       "    <tr>\n",
       "      <th>2</th>\n",
       "      <td>1463</td>\n",
       "      <td>60</td>\n",
       "      <td>RL</td>\n",
       "      <td>74.0</td>\n",
       "      <td>13830</td>\n",
       "      <td>Pave</td>\n",
       "      <td>NaN</td>\n",
       "      <td>IR1</td>\n",
       "      <td>Lvl</td>\n",
       "      <td>AllPub</td>\n",
       "      <td>...</td>\n",
       "      <td>0</td>\n",
       "      <td>0</td>\n",
       "      <td>NaN</td>\n",
       "      <td>MnPrv</td>\n",
       "      <td>NaN</td>\n",
       "      <td>0</td>\n",
       "      <td>3</td>\n",
       "      <td>2010</td>\n",
       "      <td>WD</td>\n",
       "      <td>Normal</td>\n",
       "    </tr>\n",
       "    <tr>\n",
       "      <th>3</th>\n",
       "      <td>1464</td>\n",
       "      <td>60</td>\n",
       "      <td>RL</td>\n",
       "      <td>78.0</td>\n",
       "      <td>9978</td>\n",
       "      <td>Pave</td>\n",
       "      <td>NaN</td>\n",
       "      <td>IR1</td>\n",
       "      <td>Lvl</td>\n",
       "      <td>AllPub</td>\n",
       "      <td>...</td>\n",
       "      <td>0</td>\n",
       "      <td>0</td>\n",
       "      <td>NaN</td>\n",
       "      <td>NaN</td>\n",
       "      <td>NaN</td>\n",
       "      <td>0</td>\n",
       "      <td>6</td>\n",
       "      <td>2010</td>\n",
       "      <td>WD</td>\n",
       "      <td>Normal</td>\n",
       "    </tr>\n",
       "    <tr>\n",
       "      <th>4</th>\n",
       "      <td>1465</td>\n",
       "      <td>120</td>\n",
       "      <td>RL</td>\n",
       "      <td>43.0</td>\n",
       "      <td>5005</td>\n",
       "      <td>Pave</td>\n",
       "      <td>NaN</td>\n",
       "      <td>IR1</td>\n",
       "      <td>HLS</td>\n",
       "      <td>AllPub</td>\n",
       "      <td>...</td>\n",
       "      <td>144</td>\n",
       "      <td>0</td>\n",
       "      <td>NaN</td>\n",
       "      <td>NaN</td>\n",
       "      <td>NaN</td>\n",
       "      <td>0</td>\n",
       "      <td>1</td>\n",
       "      <td>2010</td>\n",
       "      <td>WD</td>\n",
       "      <td>Normal</td>\n",
       "    </tr>\n",
       "  </tbody>\n",
       "</table>\n",
       "<p>5 rows × 80 columns</p>\n",
       "</div>"
      ],
      "text/plain": [
       "     Id  MSSubClass MSZoning  LotFrontage  LotArea Street Alley LotShape  \\\n",
       "0  1461          20       RH         80.0    11622   Pave   NaN      Reg   \n",
       "1  1462          20       RL         81.0    14267   Pave   NaN      IR1   \n",
       "2  1463          60       RL         74.0    13830   Pave   NaN      IR1   \n",
       "3  1464          60       RL         78.0     9978   Pave   NaN      IR1   \n",
       "4  1465         120       RL         43.0     5005   Pave   NaN      IR1   \n",
       "\n",
       "  LandContour Utilities  ... ScreenPorch PoolArea PoolQC  Fence MiscFeature  \\\n",
       "0         Lvl    AllPub  ...         120        0    NaN  MnPrv         NaN   \n",
       "1         Lvl    AllPub  ...           0        0    NaN    NaN        Gar2   \n",
       "2         Lvl    AllPub  ...           0        0    NaN  MnPrv         NaN   \n",
       "3         Lvl    AllPub  ...           0        0    NaN    NaN         NaN   \n",
       "4         HLS    AllPub  ...         144        0    NaN    NaN         NaN   \n",
       "\n",
       "  MiscVal MoSold  YrSold  SaleType  SaleCondition  \n",
       "0       0      6    2010        WD         Normal  \n",
       "1   12500      6    2010        WD         Normal  \n",
       "2       0      3    2010        WD         Normal  \n",
       "3       0      6    2010        WD         Normal  \n",
       "4       0      1    2010        WD         Normal  \n",
       "\n",
       "[5 rows x 80 columns]"
      ]
     },
     "execution_count": 40,
     "metadata": {},
     "output_type": "execute_result"
    }
   ],
   "source": [
    "df_test.head()"
   ]
  },
  {
   "cell_type": "code",
   "execution_count": 41,
   "id": "20a732fc",
   "metadata": {},
   "outputs": [
    {
     "name": "stdout",
     "output_type": "stream",
     "text": [
      "<class 'pandas.core.frame.DataFrame'>\n",
      "RangeIndex: 1459 entries, 0 to 1458\n",
      "Data columns (total 80 columns):\n",
      " #   Column         Non-Null Count  Dtype  \n",
      "---  ------         --------------  -----  \n",
      " 0   Id             1459 non-null   int64  \n",
      " 1   MSSubClass     1459 non-null   int64  \n",
      " 2   MSZoning       1455 non-null   object \n",
      " 3   LotFrontage    1232 non-null   float64\n",
      " 4   LotArea        1459 non-null   int64  \n",
      " 5   Street         1459 non-null   object \n",
      " 6   Alley          107 non-null    object \n",
      " 7   LotShape       1459 non-null   object \n",
      " 8   LandContour    1459 non-null   object \n",
      " 9   Utilities      1457 non-null   object \n",
      " 10  LotConfig      1459 non-null   object \n",
      " 11  LandSlope      1459 non-null   object \n",
      " 12  Neighborhood   1459 non-null   object \n",
      " 13  Condition1     1459 non-null   object \n",
      " 14  Condition2     1459 non-null   object \n",
      " 15  BldgType       1459 non-null   object \n",
      " 16  HouseStyle     1459 non-null   object \n",
      " 17  OverallQual    1459 non-null   int64  \n",
      " 18  OverallCond    1459 non-null   int64  \n",
      " 19  YearBuilt      1459 non-null   int64  \n",
      " 20  YearRemodAdd   1459 non-null   int64  \n",
      " 21  RoofStyle      1459 non-null   object \n",
      " 22  RoofMatl       1459 non-null   object \n",
      " 23  Exterior1st    1458 non-null   object \n",
      " 24  Exterior2nd    1458 non-null   object \n",
      " 25  MasVnrType     1443 non-null   object \n",
      " 26  MasVnrArea     1444 non-null   float64\n",
      " 27  ExterQual      1459 non-null   object \n",
      " 28  ExterCond      1459 non-null   object \n",
      " 29  Foundation     1459 non-null   object \n",
      " 30  BsmtQual       1415 non-null   object \n",
      " 31  BsmtCond       1414 non-null   object \n",
      " 32  BsmtExposure   1415 non-null   object \n",
      " 33  BsmtFinType1   1417 non-null   object \n",
      " 34  BsmtFinSF1     1458 non-null   float64\n",
      " 35  BsmtFinType2   1417 non-null   object \n",
      " 36  BsmtFinSF2     1458 non-null   float64\n",
      " 37  BsmtUnfSF      1458 non-null   float64\n",
      " 38  TotalBsmtSF    1458 non-null   float64\n",
      " 39  Heating        1459 non-null   object \n",
      " 40  HeatingQC      1459 non-null   object \n",
      " 41  CentralAir     1459 non-null   object \n",
      " 42  Electrical     1459 non-null   object \n",
      " 43  1stFlrSF       1459 non-null   int64  \n",
      " 44  2ndFlrSF       1459 non-null   int64  \n",
      " 45  LowQualFinSF   1459 non-null   int64  \n",
      " 46  GrLivArea      1459 non-null   int64  \n",
      " 47  BsmtFullBath   1457 non-null   float64\n",
      " 48  BsmtHalfBath   1457 non-null   float64\n",
      " 49  FullBath       1459 non-null   int64  \n",
      " 50  HalfBath       1459 non-null   int64  \n",
      " 51  BedroomAbvGr   1459 non-null   int64  \n",
      " 52  KitchenAbvGr   1459 non-null   int64  \n",
      " 53  KitchenQual    1458 non-null   object \n",
      " 54  TotRmsAbvGrd   1459 non-null   int64  \n",
      " 55  Functional     1457 non-null   object \n",
      " 56  Fireplaces     1459 non-null   int64  \n",
      " 57  FireplaceQu    729 non-null    object \n",
      " 58  GarageType     1383 non-null   object \n",
      " 59  GarageYrBlt    1381 non-null   float64\n",
      " 60  GarageFinish   1381 non-null   object \n",
      " 61  GarageCars     1458 non-null   float64\n",
      " 62  GarageArea     1458 non-null   float64\n",
      " 63  GarageQual     1381 non-null   object \n",
      " 64  GarageCond     1381 non-null   object \n",
      " 65  PavedDrive     1459 non-null   object \n",
      " 66  WoodDeckSF     1459 non-null   int64  \n",
      " 67  OpenPorchSF    1459 non-null   int64  \n",
      " 68  EnclosedPorch  1459 non-null   int64  \n",
      " 69  3SsnPorch      1459 non-null   int64  \n",
      " 70  ScreenPorch    1459 non-null   int64  \n",
      " 71  PoolArea       1459 non-null   int64  \n",
      " 72  PoolQC         3 non-null      object \n",
      " 73  Fence          290 non-null    object \n",
      " 74  MiscFeature    51 non-null     object \n",
      " 75  MiscVal        1459 non-null   int64  \n",
      " 76  MoSold         1459 non-null   int64  \n",
      " 77  YrSold         1459 non-null   int64  \n",
      " 78  SaleType       1458 non-null   object \n",
      " 79  SaleCondition  1459 non-null   object \n",
      "dtypes: float64(11), int64(26), object(43)\n",
      "memory usage: 912.0+ KB\n"
     ]
    }
   ],
   "source": [
    "df_test.info()"
   ]
  },
  {
   "cell_type": "code",
   "execution_count": 42,
   "id": "869c22ff",
   "metadata": {},
   "outputs": [
    {
     "data": {
      "text/plain": [
       "Id                 0\n",
       "MSSubClass         0\n",
       "MSZoning           4\n",
       "LotFrontage      227\n",
       "LotArea            0\n",
       "                ... \n",
       "MiscVal            0\n",
       "MoSold             0\n",
       "YrSold             0\n",
       "SaleType           1\n",
       "SaleCondition      0\n",
       "Length: 80, dtype: int64"
      ]
     },
     "execution_count": 42,
     "metadata": {},
     "output_type": "execute_result"
    }
   ],
   "source": [
    "df_test.isnull().sum()"
   ]
  },
  {
   "cell_type": "code",
   "execution_count": 43,
   "id": "1c56e59a",
   "metadata": {},
   "outputs": [
    {
     "data": {
      "text/plain": [
       "array([ 20,  60, 120, 160,  80,  30,  50,  90,  85, 190,  45,  70,  75,\n",
       "       180,  40, 150])"
      ]
     },
     "execution_count": 43,
     "metadata": {},
     "output_type": "execute_result"
    }
   ],
   "source": [
    "df_test['MSSubClass'].unique()"
   ]
  },
  {
   "cell_type": "code",
   "execution_count": 44,
   "id": "266a77a5",
   "metadata": {},
   "outputs": [
    {
     "data": {
      "text/plain": [
       "16"
      ]
     },
     "execution_count": 44,
     "metadata": {},
     "output_type": "execute_result"
    }
   ],
   "source": [
    "df_test['MSSubClass'].nunique()"
   ]
  },
  {
   "cell_type": "code",
   "execution_count": 45,
   "id": "9865fa43",
   "metadata": {},
   "outputs": [
    {
     "name": "stdout",
     "output_type": "stream",
     "text": [
      "LotFrontage 259\n",
      "Alley 1369\n",
      "MasVnrType 8\n",
      "MasVnrArea 8\n",
      "BsmtQual 37\n",
      "BsmtCond 37\n",
      "BsmtExposure 38\n",
      "BsmtFinType1 37\n",
      "BsmtFinType2 38\n",
      "Electrical 1\n",
      "FireplaceQu 690\n",
      "GarageType 81\n",
      "GarageYrBlt 81\n",
      "GarageFinish 81\n",
      "GarageQual 81\n",
      "GarageCond 81\n",
      "PoolQC 1453\n",
      "Fence 1179\n",
      "MiscFeature 1406\n"
     ]
    }
   ],
   "source": [
    "for i in df_train.columns:\n",
    "    if df_train[i].isnull().any() == True:\n",
    "        print(i,end = \" \")\n",
    "        print(df_train.loc[lambda df_train : df_train[i].isnull() == True].shape[0])"
   ]
  },
  {
   "cell_type": "code",
   "execution_count": 46,
   "id": "3da198ca",
   "metadata": {},
   "outputs": [],
   "source": [
    "df_train[\"Electrical\"].fillna(df_train[\"Electrical\"].mode()[0],inplace = True)"
   ]
  },
  {
   "cell_type": "markdown",
   "id": "c7db90c3",
   "metadata": {},
   "source": [
    "# Encoding"
   ]
  },
  {
   "cell_type": "code",
   "execution_count": 47,
   "id": "6ba41882",
   "metadata": {},
   "outputs": [
    {
     "data": {
      "text/plain": [
       "Index(['Id', 'MSSubClass', 'LotFrontage', 'LotArea', 'OverallQual',\n",
       "       'OverallCond', 'YearBuilt', 'YearRemodAdd', 'MasVnrArea', 'BsmtFinSF1',\n",
       "       'BsmtFinSF2', 'BsmtUnfSF', 'TotalBsmtSF', '1stFlrSF', '2ndFlrSF',\n",
       "       'LowQualFinSF', 'GrLivArea', 'BsmtFullBath', 'BsmtHalfBath', 'FullBath',\n",
       "       'HalfBath', 'BedroomAbvGr', 'KitchenAbvGr', 'TotRmsAbvGrd',\n",
       "       'Fireplaces', 'GarageYrBlt', 'GarageCars', 'GarageArea', 'WoodDeckSF',\n",
       "       'OpenPorchSF', 'EnclosedPorch', '3SsnPorch', 'ScreenPorch', 'PoolArea',\n",
       "       'MiscVal', 'MoSold', 'YrSold', 'SalePrice'],\n",
       "      dtype='object')"
      ]
     },
     "execution_count": 47,
     "metadata": {},
     "output_type": "execute_result"
    }
   ],
   "source": [
    "numeric_feature = df_train.select_dtypes(include=[\"int64\",\"float64\"]).columns\n",
    "numeric_feature"
   ]
  },
  {
   "cell_type": "code",
   "execution_count": 48,
   "id": "50dacef7",
   "metadata": {},
   "outputs": [
    {
     "data": {
      "text/plain": [
       "Index(['MSZoning', 'Street', 'Alley', 'LotShape', 'LandContour', 'Utilities',\n",
       "       'LotConfig', 'LandSlope', 'Neighborhood', 'Condition1', 'Condition2',\n",
       "       'BldgType', 'HouseStyle', 'RoofStyle', 'RoofMatl', 'Exterior1st',\n",
       "       'Exterior2nd', 'MasVnrType', 'ExterQual', 'ExterCond', 'Foundation',\n",
       "       'BsmtQual', 'BsmtCond', 'BsmtExposure', 'BsmtFinType1', 'BsmtFinType2',\n",
       "       'Heating', 'HeatingQC', 'CentralAir', 'Electrical', 'KitchenQual',\n",
       "       'Functional', 'FireplaceQu', 'GarageType', 'GarageFinish', 'GarageQual',\n",
       "       'GarageCond', 'PavedDrive', 'PoolQC', 'Fence', 'MiscFeature',\n",
       "       'SaleType', 'SaleCondition'],\n",
       "      dtype='object')"
      ]
     },
     "execution_count": 48,
     "metadata": {},
     "output_type": "execute_result"
    }
   ],
   "source": [
    "categorical_feature = df_train.select_dtypes(exclude=[\"int64\",\"float64\"]).columns\n",
    "categorical_feature"
   ]
  },
  {
   "cell_type": "code",
   "execution_count": 49,
   "id": "7e3f8549",
   "metadata": {},
   "outputs": [],
   "source": [
    "Ord_encoder = OrdinalEncoder()"
   ]
  },
  {
   "cell_type": "code",
   "execution_count": 50,
   "id": "0ca36c0f",
   "metadata": {},
   "outputs": [],
   "source": [
    "for i in categorical_feature:\n",
    "    df_train[[i]] = Ord_encoder.fit_transform(df_train[[i]])\n",
    "    df_test[[i]] = Ord_encoder.fit_transform(df_test[[i]])"
   ]
  },
  {
   "cell_type": "code",
   "execution_count": 51,
   "id": "34d162f0",
   "metadata": {},
   "outputs": [
    {
     "data": {
      "text/plain": [
       "float64    46\n",
       "int64      35\n",
       "dtype: int64"
      ]
     },
     "execution_count": 51,
     "metadata": {},
     "output_type": "execute_result"
    }
   ],
   "source": [
    "df_train.dtypes.value_counts()"
   ]
  },
  {
   "cell_type": "code",
   "execution_count": 52,
   "id": "c52b457e",
   "metadata": {},
   "outputs": [
    {
     "data": {
      "text/plain": [
       "float64    54\n",
       "int64      26\n",
       "dtype: int64"
      ]
     },
     "execution_count": 52,
     "metadata": {},
     "output_type": "execute_result"
    }
   ],
   "source": [
    "df_test.dtypes.value_counts()"
   ]
  },
  {
   "cell_type": "markdown",
   "id": "9b708ce9",
   "metadata": {},
   "source": [
    "# Outlier Analysis & Removal\n"
   ]
  },
  {
   "cell_type": "code",
   "execution_count": 53,
   "id": "7f6bf0eb",
   "metadata": {},
   "outputs": [
    {
     "data": {
      "text/plain": [
       "<AxesSubplot:xlabel='SalePrice'>"
      ]
     },
     "execution_count": 53,
     "metadata": {},
     "output_type": "execute_result"
    },
    {
     "data": {
      "image/png": "[encoded data removed]",
      "text/plain": [
       "<Figure size 432x288 with 1 Axes>"
      ]
     },
     "metadata": {
      "needs_background": "light"
     },
     "output_type": "display_data"
    }
   ],
   "source": [
    "sns.boxplot(x= df_train.SalePrice)"
   ]
  },
  {
   "cell_type": "code",
   "execution_count": 54,
   "id": "79e3f0c4",
   "metadata": {},
   "outputs": [
    {
     "data": {
      "text/plain": [
       "0.25    129975.0\n",
       "0.50    163000.0\n",
       "0.75    214000.0\n",
       "Name: SalePrice, dtype: float64"
      ]
     },
     "execution_count": 54,
     "metadata": {},
     "output_type": "execute_result"
    }
   ],
   "source": [
    "df_train.SalePrice.quantile([.25,.5,.75])"
   ]
  },
  {
   "cell_type": "code",
   "execution_count": 55,
   "id": "ab1d4336",
   "metadata": {},
   "outputs": [],
   "source": [
    "z = np.abs(stats.zscore(df_train.SalePrice))"
   ]
  },
  {
   "cell_type": "code",
   "execution_count": 56,
   "id": "f94fbe52",
   "metadata": {},
   "outputs": [],
   "source": [
    "df_train.drop(np.where(z>3)[0],axis = 0,inplace = True)"
   ]
  },
  {
   "cell_type": "code",
   "execution_count": 57,
   "id": "1000399b",
   "metadata": {},
   "outputs": [
    {
     "data": {
      "text/plain": [
       "(1438, 81)"
      ]
     },
     "execution_count": 57,
     "metadata": {},
     "output_type": "execute_result"
    }
   ],
   "source": [
    "df_train.shape"
   ]
  },
  {
   "cell_type": "code",
   "execution_count": 58,
   "id": "87909d33",
   "metadata": {},
   "outputs": [],
   "source": [
    "df_train.fillna(method = \"bfill\", inplace = True )"
   ]
  },
  {
   "cell_type": "code",
   "execution_count": 59,
   "id": "7efe89a5",
   "metadata": {},
   "outputs": [],
   "source": [
    "df_test.fillna(method = \"bfill\", inplace = True )"
   ]
  },
  {
   "cell_type": "code",
   "execution_count": 60,
   "id": "339e1598",
   "metadata": {},
   "outputs": [
    {
     "data": {
      "text/plain": [
       "<AxesSubplot:xlabel='SalePrice'>"
      ]
     },
     "execution_count": 60,
     "metadata": {},
     "output_type": "execute_result"
    },
    {
     "data": {
      "image/png": "[encoded data removed]",
      "text/plain": [
       "<Figure size 432x288 with 1 Axes>"
      ]
     },
     "metadata": {
      "needs_background": "light"
     },
     "output_type": "display_data"
    }
   ],
   "source": [
    "sns.boxplot(x= df_train.SalePrice)"
   ]
  },
  {
   "cell_type": "code",
   "execution_count": 61,
   "id": "930286b6",
   "metadata": {},
   "outputs": [
    {
     "data": {
      "text/plain": [
       "0.25    129500.0\n",
       "0.50    161500.0\n",
       "0.75    210000.0\n",
       "Name: SalePrice, dtype: float64"
      ]
     },
     "execution_count": 61,
     "metadata": {},
     "output_type": "execute_result"
    }
   ],
   "source": [
    "df_train.SalePrice.quantile([.25,.5,.75])"
   ]
  },
  {
   "cell_type": "markdown",
   "id": "53654e4c",
   "metadata": {},
   "source": [
    "# Splitting of data"
   ]
  },
  {
   "cell_type": "code",
   "execution_count": 62,
   "id": "c2d445b8",
   "metadata": {},
   "outputs": [],
   "source": [
    "X = df_train.drop(\"SalePrice\",axis = 1)\n"
   ]
  },
  {
   "cell_type": "code",
   "execution_count": 63,
   "id": "c6dc0d68",
   "metadata": {},
   "outputs": [],
   "source": [
    "Y = df_train.SalePrice"
   ]
  },
  {
   "cell_type": "code",
   "execution_count": 70,
   "id": "415c2fb5",
   "metadata": {},
   "outputs": [
    {
     "data": {
      "text/plain": [
       "Id               0\n",
       "MSSubClass       0\n",
       "MSZoning         0\n",
       "LotFrontage      0\n",
       "LotArea          0\n",
       "                ..\n",
       "MiscVal          0\n",
       "MoSold           0\n",
       "YrSold           0\n",
       "SaleType         0\n",
       "SaleCondition    0\n",
       "Length: 80, dtype: int64"
      ]
     },
     "execution_count": 70,
     "metadata": {},
     "output_type": "execute_result"
    }
   ],
   "source": [
    "X.isnull().sum()\n"
   ]
  },
  {
   "cell_type": "markdown",
   "id": "3519c0b9",
   "metadata": {},
   "source": [
    "# Important Feature Selection"
   ]
  },
  {
   "cell_type": "code",
   "execution_count": 73,
   "id": "c625837e",
   "metadata": {
    "scrolled": true
   },
   "outputs": [],
   "source": [
    "fs = SelectKBest(score_func=f_regression, k=50)\n"
   ]
  },
  {
   "cell_type": "code",
   "execution_count": 74,
   "id": "045d0502",
   "metadata": {},
   "outputs": [],
   "source": [
    "X.fillna(method = \"ffill\", inplace = True )\n"
   ]
  },
  {
   "cell_type": "code",
   "execution_count": 75,
   "id": "359ee2e9",
   "metadata": {},
   "outputs": [],
   "source": [
    "X_selected = fs.fit_transform(X, Y)\n"
   ]
  },
  {
   "cell_type": "code",
   "execution_count": 76,
   "id": "038fc847",
   "metadata": {},
   "outputs": [
    {
     "data": {
      "text/plain": [
       "array([[3.000e+00, 6.500e+01, 8.450e+03, ..., 6.100e+01, 0.000e+00,\n",
       "        4.000e+00],\n",
       "       [3.000e+00, 8.000e+01, 9.600e+03, ..., 0.000e+00, 0.000e+00,\n",
       "        4.000e+00],\n",
       "       [3.000e+00, 6.800e+01, 1.125e+04, ..., 4.200e+01, 0.000e+00,\n",
       "        4.000e+00],\n",
       "       ...,\n",
       "       [3.000e+00, 6.600e+01, 9.042e+03, ..., 6.000e+01, 0.000e+00,\n",
       "        4.000e+00],\n",
       "       [3.000e+00, 6.800e+01, 9.717e+03, ..., 0.000e+00, 1.120e+02,\n",
       "        4.000e+00],\n",
       "       [3.000e+00, 7.500e+01, 9.937e+03, ..., 6.800e+01, 0.000e+00,\n",
       "        4.000e+00]])"
      ]
     },
     "execution_count": 76,
     "metadata": {},
     "output_type": "execute_result"
    }
   ],
   "source": [
    "X_selected"
   ]
  },
  {
   "cell_type": "code",
   "execution_count": 77,
   "id": "c89a6525",
   "metadata": {},
   "outputs": [
    {
     "data": {
      "text/plain": [
       "(1438, 50)"
      ]
     },
     "execution_count": 77,
     "metadata": {},
     "output_type": "execute_result"
    }
   ],
   "source": [
    "X_selected.shape"
   ]
  },
  {
   "cell_type": "markdown",
   "id": "307ffe80",
   "metadata": {},
   "source": [
    "# Model Selection"
   ]
  },
  {
   "cell_type": "code",
   "execution_count": 78,
   "id": "1eb13a5b",
   "metadata": {},
   "outputs": [],
   "source": [
    "x_train,x_test, y_train, y_test = train_test_split(X_selected,Y)"
   ]
  },
  {
   "cell_type": "markdown",
   "id": "f5911871",
   "metadata": {},
   "source": [
    "\n",
    "# Lasso with cv"
   ]
  },
  {
   "cell_type": "code",
   "execution_count": 93,
   "id": "976ee280",
   "metadata": {},
   "outputs": [],
   "source": [
    "la = LassoCV()"
   ]
  },
  {
   "cell_type": "code",
   "execution_count": 94,
   "id": "c37fa9f4",
   "metadata": {},
   "outputs": [
    {
     "data": {
      "text/plain": [
       "LassoCV()"
      ]
     },
     "execution_count": 94,
     "metadata": {},
     "output_type": "execute_result"
    }
   ],
   "source": [
    "la.fit(x_train,y_train)\n"
   ]
  },
  {
   "cell_type": "code",
   "execution_count": 95,
   "id": "135d16e8",
   "metadata": {},
   "outputs": [
    {
     "data": {
      "text/plain": [
       "0.7641580071606332"
      ]
     },
     "execution_count": 95,
     "metadata": {},
     "output_type": "execute_result"
    }
   ],
   "source": [
    "yl = la.predict(x_test)\n",
    "r2_score(y_test,yl)"
   ]
  },
  {
   "cell_type": "markdown",
   "id": "0e3e4f83",
   "metadata": {},
   "source": [
    "# Ridge with cv"
   ]
  },
  {
   "cell_type": "code",
   "execution_count": 96,
   "id": "e88bafc0",
   "metadata": {},
   "outputs": [],
   "source": [
    "ri = RidgeCV()"
   ]
  },
  {
   "cell_type": "code",
   "execution_count": 97,
   "id": "96c56794",
   "metadata": {},
   "outputs": [
    {
     "data": {
      "text/plain": [
       "RidgeCV(alphas=array([ 0.1,  1. , 10. ]))"
      ]
     },
     "execution_count": 97,
     "metadata": {},
     "output_type": "execute_result"
    }
   ],
   "source": [
    "ri.fit(x_train,y_train)"
   ]
  },
  {
   "cell_type": "code",
   "execution_count": 98,
   "id": "37ebbbc1",
   "metadata": {},
   "outputs": [
    {
     "data": {
      "text/plain": [
       "0.8515386365523712"
      ]
     },
     "execution_count": 98,
     "metadata": {},
     "output_type": "execute_result"
    }
   ],
   "source": [
    "yr = ri.predict(x_test)\n",
    "r2_score(y_test,yr)"
   ]
  },
  {
   "cell_type": "markdown",
   "id": "a666da3e",
   "metadata": {},
   "source": [
    "# Linear Regression"
   ]
  },
  {
   "cell_type": "code",
   "execution_count": 99,
   "id": "8ec3b1be",
   "metadata": {},
   "outputs": [
    {
     "data": {
      "text/plain": [
       "LinearRegression()"
      ]
     },
     "execution_count": 99,
     "metadata": {},
     "output_type": "execute_result"
    }
   ],
   "source": [
    "lr = LinearRegression()\n",
    "lr.fit(x_train,y_train)"
   ]
  },
  {
   "cell_type": "code",
   "execution_count": 100,
   "id": "255bd489",
   "metadata": {},
   "outputs": [
    {
     "data": {
      "text/plain": [
       "0.8495973645110994"
      ]
     },
     "execution_count": 100,
     "metadata": {},
     "output_type": "execute_result"
    }
   ],
   "source": [
    "yp = lr.predict(x_test)\n",
    "r2_score(y_test,yp)"
   ]
  },
  {
   "cell_type": "markdown",
   "id": "56ea5cec",
   "metadata": {},
   "source": [
    "# Random Forest"
   ]
  },
  {
   "cell_type": "code",
   "execution_count": 101,
   "id": "8e3a3a23",
   "metadata": {},
   "outputs": [
    {
     "data": {
      "text/plain": [
       "RandomForestRegressor(max_depth=100, n_estimators=500)"
      ]
     },
     "execution_count": 101,
     "metadata": {},
     "output_type": "execute_result"
    }
   ],
   "source": [
    "rf = RandomForestRegressor(max_depth=100,n_estimators=500)\n",
    "rf.fit(x_train,y_train)"
   ]
  },
  {
   "cell_type": "code",
   "execution_count": 102,
   "id": "f3be62ae",
   "metadata": {},
   "outputs": [
    {
     "data": {
      "text/plain": [
       "0.880629960276319"
      ]
     },
     "execution_count": 102,
     "metadata": {},
     "output_type": "execute_result"
    }
   ],
   "source": [
    "ypr = rf.predict(x_test)\n",
    "r2_score(y_test,ypr)"
   ]
  },
  {
   "cell_type": "markdown",
   "id": "b2636335",
   "metadata": {},
   "source": [
    "\n",
    "# Hyperparameter Tuning"
   ]
  },
  {
   "cell_type": "code",
   "execution_count": 103,
   "id": "aae432a7",
   "metadata": {},
   "outputs": [],
   "source": [
    "params = {'alpha': [0.0001, 0.001, 0.01, 0.05, 0.1, \n",
    " 0.2, 0.3, 0.4, 0.5, 0.6, 0.7, 0.8, 0.9, 1.0, 2.0, 3.0, \n",
    " 4.0, 5.0, 6.0, 7.0, 8.0, 9.0, 10.0, 20, 30, 40, 50, 60, 70, 80, 90, 100,200]}"
   ]
  },
  {
   "cell_type": "code",
   "execution_count": 109,
   "id": "9d3721ea",
   "metadata": {},
   "outputs": [
    {
     "name": "stdout",
     "output_type": "stream",
     "text": [
      "Fitting 5 folds for each of 33 candidates, totalling 165 fits\n"
     ]
    },
    {
     "data": {
      "text/plain": [
       "GridSearchCV(cv=5, estimator=Lasso(),\n",
       "             param_grid={'alpha': [0.0001, 0.001, 0.01, 0.05, 0.1, 0.2, 0.3,\n",
       "                                   0.4, 0.5, 0.6, 0.7, 0.8, 0.9, 1.0, 2.0, 3.0,\n",
       "                                   4.0, 5.0, 6.0, 7.0, 8.0, 9.0, 10.0, 20, 30,\n",
       "                                   40, 50, 60, 70, 80, ...]},\n",
       "             return_train_score=True, scoring='r2', verbose=1)"
      ]
     },
     "execution_count": 109,
     "metadata": {},
     "output_type": "execute_result"
    }
   ],
   "source": [
    "lasso = Lasso()\n",
    "folds = 5\n",
    "model_cv = GridSearchCV(estimator = lasso, \n",
    "                        param_grid = params, \n",
    "                        scoring= 'r2', \n",
    "                        cv = folds, \n",
    "                        return_train_score=True,\n",
    "                        verbose = 1)            \n",
    "\n",
    "model_cv.fit(x_train, y_train) "
   ]
  },
  {
   "cell_type": "code",
   "execution_count": 110,
   "id": "2fd6e964",
   "metadata": {},
   "outputs": [
    {
     "data": {
      "text/plain": [
       "{'alpha': 5.0}"
      ]
     },
     "execution_count": 110,
     "metadata": {},
     "output_type": "execute_result"
    }
   ],
   "source": [
    "model_cv.best_params_"
   ]
  },
  {
   "cell_type": "code",
   "execution_count": 112,
   "id": "db5e0eeb",
   "metadata": {},
   "outputs": [
    {
     "data": {
      "text/plain": [
       "Lasso(alpha=5.0)"
      ]
     },
     "execution_count": 112,
     "metadata": {},
     "output_type": "execute_result"
    }
   ],
   "source": [
    "model_cv.best_estimator_"
   ]
  },
  {
   "cell_type": "code",
   "execution_count": 113,
   "id": "88cd7383",
   "metadata": {},
   "outputs": [
    {
     "data": {
      "text/plain": [
       "array([-4.22574176e+03, -6.57413945e+01,  5.02655494e-01, -1.53896125e+03,\n",
       "        3.88742152e+02, -1.96165338e+02, -2.27133429e+03,  1.21026235e+04,\n",
       "        5.51101982e+01,  2.24904397e+02,  2.57142549e+03, -1.45237173e+03,\n",
       "        9.50621370e+02,  1.22387763e+01, -6.10556925e+03,  1.48919184e+03,\n",
       "        1.21120805e+03, -6.50058214e+03, -2.55199929e+03, -4.12924390e+00,\n",
       "       -5.20233913e+00,  1.18509511e+00, -3.89204278e+03, -1.32131520e+03,\n",
       "        3.98088932e+03, -6.86465282e+02,  3.92289458e+01,  3.19470898e+01,\n",
       "       -4.42458047e+00,  1.08360575e+04,  5.15509630e+02,  1.51257220e+03,\n",
       "        1.80450867e+03, -2.17561970e+04, -7.97667034e+03,  2.77079976e+03,\n",
       "        4.12552618e+03,  5.80991903e+03, -1.07316585e+03, -1.67806937e+02,\n",
       "       -2.90923386e+03,  1.23198474e+04,  8.44856461e+00,  9.99080222e+01,\n",
       "        1.59557374e+03,  4.34822445e+03,  2.92462108e+01, -9.17254953e+00,\n",
       "       -9.18416965e+00,  2.53549954e+03])"
      ]
     },
     "execution_count": 113,
     "metadata": {},
     "output_type": "execute_result"
    }
   ],
   "source": [
    "alpha = model_cv.best_estimator_.alpha\n",
    "# max_iter = model_cv.best_estimator_.max_iter\n",
    "lasso = Lasso(alpha=alpha)\n",
    "\n",
    "lasso.fit(x_train, y_train)\n",
    "lasso.coef_"
   ]
  },
  {
   "cell_type": "code",
   "execution_count": 114,
   "id": "917c28df",
   "metadata": {},
   "outputs": [
    {
     "name": "stdout",
     "output_type": "stream",
     "text": [
      "0.819313975352983\n"
     ]
    }
   ],
   "source": [
    "y_pred = lasso.predict(x_test)\n",
    "print(r2_score(y_pred, y_test))"
   ]
  },
  {
   "cell_type": "code",
   "execution_count": 119,
   "id": "39a23484",
   "metadata": {},
   "outputs": [
    {
     "name": "stdout",
     "output_type": "stream",
     "text": [
      "Fitting 10 folds for each of 33 candidates, totalling 330 fits\n"
     ]
    },
    {
     "data": {
      "text/plain": [
       "GridSearchCV(cv=10, estimator=Ridge(),\n",
       "             param_grid={'alpha': [0.0001, 0.001, 0.01, 0.05, 0.1, 0.2, 0.3,\n",
       "                                   0.4, 0.5, 0.6, 0.7, 0.8, 0.9, 1.0, 2.0, 3.0,\n",
       "                                   4.0, 5.0, 6.0, 7.0, 8.0, 9.0, 10.0, 20, 30,\n",
       "                                   40, 50, 60, 70, 80, ...]},\n",
       "             return_train_score=True, scoring='neg_mean_squared_error',\n",
       "             verbose=1)"
      ]
     },
     "execution_count": 119,
     "metadata": {},
     "output_type": "execute_result"
    }
   ],
   "source": [
    "ridge = Ridge()\n",
    "model_cv = GridSearchCV(estimator = ridge, \n",
    "                        param_grid = params, \n",
    "                        scoring= 'neg_mean_squared_error', \n",
    "                        cv = 10, \n",
    "                        return_train_score=True,\n",
    "                        verbose = 1)            \n",
    "\n",
    "model_cv.fit(x_train, y_train) \n"
   ]
  },
  {
   "cell_type": "code",
   "execution_count": 120,
   "id": "f4ccc37b",
   "metadata": {},
   "outputs": [
    {
     "data": {
      "text/plain": [
       "Ridge(alpha=7.0)"
      ]
     },
     "execution_count": 120,
     "metadata": {},
     "output_type": "execute_result"
    }
   ],
   "source": [
    "model_cv.best_estimator_"
   ]
  },
  {
   "cell_type": "code",
   "execution_count": 121,
   "id": "786a8ce9",
   "metadata": {},
   "outputs": [
    {
     "data": {
      "text/plain": [
       "array([-4.22574176e+03, -6.57413945e+01,  5.02655494e-01, -1.53896125e+03,\n",
       "        3.88742152e+02, -1.96165338e+02, -2.27133429e+03,  1.21026235e+04,\n",
       "        5.51101982e+01,  2.24904397e+02,  2.57142549e+03, -1.45237173e+03,\n",
       "        9.50621370e+02,  1.22387763e+01, -6.10556925e+03,  1.48919184e+03,\n",
       "        1.21120805e+03, -6.50058214e+03, -2.55199929e+03, -4.12924390e+00,\n",
       "       -5.20233913e+00,  1.18509511e+00, -3.89204278e+03, -1.32131520e+03,\n",
       "        3.98088932e+03, -6.86465282e+02,  3.92289458e+01,  3.19470898e+01,\n",
       "       -4.42458047e+00,  1.08360575e+04,  5.15509630e+02,  1.51257220e+03,\n",
       "        1.80450867e+03, -2.17561970e+04, -7.97667034e+03,  2.77079976e+03,\n",
       "        4.12552618e+03,  5.80991903e+03, -1.07316585e+03, -1.67806937e+02,\n",
       "       -2.90923386e+03,  1.23198474e+04,  8.44856461e+00,  9.99080222e+01,\n",
       "        1.59557374e+03,  4.34822445e+03,  2.92462108e+01, -9.17254953e+00,\n",
       "       -9.18416965e+00,  2.53549954e+03])"
      ]
     },
     "execution_count": 121,
     "metadata": {},
     "output_type": "execute_result"
    }
   ],
   "source": [
    "alpha = model_cv.best_estimator_.alpha\n",
    "ridge= Ridge(alpha=alpha)\n",
    "\n",
    "ridge.fit(x_train, y_train)\n",
    "lasso.coef_"
   ]
  },
  {
   "cell_type": "code",
   "execution_count": 123,
   "id": "55763191",
   "metadata": {},
   "outputs": [],
   "source": [
    "y_r = ridge.predict(x_test)\n"
   ]
  },
  {
   "cell_type": "code",
   "execution_count": 124,
   "id": "466245f9",
   "metadata": {},
   "outputs": [
    {
     "data": {
      "text/plain": [
       "0.8510786388195289"
      ]
     },
     "execution_count": 124,
     "metadata": {},
     "output_type": "execute_result"
    }
   ],
   "source": [
    "r2_score(y_test,y_r)"
   ]
  },
  {
   "cell_type": "code",
   "execution_count": null,
   "id": "c3c96f32",
   "metadata": {},
   "outputs": [],
   "source": []
  }
 ],
 "metadata": {
  "kernelspec": {
   "display_name": "Python 3 (ipykernel)",
   "language": "python",
   "name": "python3"
  },
  "language_info": {
   "codemirror_mode": {
    "name": "ipython",
    "version": 3
   },
   "file_extension": ".py",
   "mimetype": "text/x-python",
   "name": "python",
   "nbconvert_exporter": "python",
   "pygments_lexer": "ipython3",
   "version": "3.9.12"
  }
 },
 "nbformat": 4,
 "nbformat_minor": 5
}
